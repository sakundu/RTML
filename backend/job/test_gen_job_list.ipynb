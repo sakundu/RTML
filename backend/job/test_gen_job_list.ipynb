{
 "cells": [
  {
   "cell_type": "code",
   "execution_count": 4,
   "metadata": {},
   "outputs": [],
   "source": [
    "from gen_axiline_pnr_job_list_util import *"
   ]
  },
  {
   "attachments": {},
   "cell_type": "markdown",
   "metadata": {},
   "source": [
    "## Import generate SVM sampling test job list"
   ]
  },
  {
   "attachments": {},
   "cell_type": "markdown",
   "metadata": {},
   "source": [
    "### Generation of Training Data"
   ]
  },
  {
   "cell_type": "code",
   "execution_count": 5,
   "metadata": {},
   "outputs": [],
   "source": [
    "## Divide the SVM runs in 4 sets each with \n",
    "designs = ['SVM']\n",
    "cp_util_list = [[917, 0.408], [636, 0.592], [1098, 0.458], [787, 0.608], \\\n",
    "        [826, 0.825], [869, 0.725], [689, 0.658], [613, 0.675], [662, 0.492], \\\n",
    "        [552, 0.475], [970, 0.892], [1492, 0.558], [1818, 0.692], \\\n",
    "        [1030, 0.758], [534, 0.542], [487, 0.708], [591, 0.525], [502, 0.775], \\\n",
    "        [473, 0.642], [460, 0.575], [1265, 0.625], [571, 0.742], [751, 0.875], \\\n",
    "        [719, 0.792], [518, 0.842], [1639, 0.808], [2325, 0.425], \\\n",
    "        [2040, 0.858], [1176, 0.508], [1369, 0.442]]\n",
    "\n",
    "sizes = [29, 55, 52, 13, 26, 9, 18, 34, 28, 11, 8, 13, 20, 51, 43, 27, 37, 23, \\\n",
    "        15, 29, 24, 53, 50, 52, 33, 39, 58, 21, 12, 43, 6, 52, 46, 40, 39, 19, \\\n",
    "        16, 44, 36, 49, 41, 6, 27, 41, 36, 30, 42, 58, 13, 41, 47, 60, 8, 56, \\\n",
    "        55, 17, 32, 48, 13, 31, 10, 57, 22, 18, 34, 28, 14, 7, 45, 18, 59, 8, \\\n",
    "        32, 12, 32, 25, 24, 50, 30, 17, 46, 34, 44, 9, 57, 22, 34, 14, 43, 49, \\\n",
    "        7, 6, 54, 18, 15, 48, 38, 56, 11, 36, 45, 45, 47, 58, 20, 51, 22, 35, \\\n",
    "        37, 31, 40, 49, 10, 36, 48, 6, 54, 51, 30, 25, 24, 59, 54, 20, 38, 55, \\\n",
    "        38, 44, 8, 24]\n",
    "\n",
    "num_cycles = [16, 8, 10, 3, 22, 19, 8, 23, 5, 2, 24, 16, 6, 17, 25, 12, 22, 4, \\\n",
    "            16, 10, 16, 17, 19, 2, 20, 22, 13, 9, 24, 4, 6, 4, 17, 10, 11, 3, \\\n",
    "            5, 7, 4, 23, 11, 12, 21, 15, 21, 3, 12, 16, 15, 17, 8, 3, 23, 8, \\\n",
    "            9, 23, 14, 18, 19, 4, 10, 18, 8, 24, 17, 10, 20, 14, 15, 17, 7, 6, \\\n",
    "            13, 23, 24, 7, 21, 24, 12, 19, 20, 9, 8, 20, 3, 15, 24, 23, 13, \\\n",
    "            15, 10, 11, 7, 9, 11, 20, 5, 21, 20, 13, 13, 24, 22, 21, 13, 4, \\\n",
    "            18, 15, 25, 7, 18, 7, 11, 14, 12, 7, 14, 5, 25, 6, 18, 10, 16, 3, \\\n",
    "            14, 6, 3, 5, 18, 13]\n",
    "\n",
    "num_units = [1]"
   ]
  },
  {
   "cell_type": "code",
   "execution_count": 6,
   "metadata": {},
   "outputs": [],
   "source": [
    "sizes1 = sizes[0:33]\n",
    "sizes2 = sizes[33:66]\n",
    "sizes3 = sizes[66:99]\n",
    "sizes4 = sizes[99:]\n",
    "\n",
    "num_cycles1 = num_cycles[0:33]\n",
    "num_cycles2 = num_cycles[33:66]\n",
    "num_cycles3 = num_cycles[66:99]\n",
    "num_cycles4 = num_cycles[100:]\n",
    "\n",
    "cp_step = 0\n",
    "run_file = '/home/fetzfs_projects/RTML/sakundu/Code/RTML/backend/job/' \\\n",
    "        'run_axiline_pnr.tcsh'"
   ]
  },
  {
   "cell_type": "code",
   "execution_count": 7,
   "metadata": {},
   "outputs": [],
   "source": [
    "job_file1 = '../test/job_files/axiline_svm_sampling_exp_train1.job'\n",
    "run_dir1 = '../test/SPNR/axiline_svm_sampling_exp_train1'\n",
    "rpt_file1 = '../test/RPT/axiline_svm_sampling_exp_train1.rpt'\n",
    "\n",
    "gen_gnu_job_list(job_file1, run_dir1, rpt_file1, num_cycles1, sizes1,\n",
    "                 cp_util_list, designs, num_units, cp_step, run_file)"
   ]
  },
  {
   "cell_type": "code",
   "execution_count": 8,
   "metadata": {},
   "outputs": [],
   "source": [
    "job_file2 = '../test/job_files/axiline_svm_sampling_exp_train2.job'\n",
    "run_dir2 = '../test/SPNR/axiline_svm_sampling_exp_train2'\n",
    "rpt_file2 = '../test/RPT/axiline_svm_sampling_exp_train2.rpt'\n",
    "\n",
    "gen_gnu_job_list(job_file2, run_dir2, rpt_file2, num_cycles2, sizes2,\n",
    "                 cp_util_list, designs, num_units, cp_step, run_file)"
   ]
  },
  {
   "cell_type": "code",
   "execution_count": 9,
   "metadata": {},
   "outputs": [],
   "source": [
    "job_file3 = '../test/job_files/axiline_svm_sampling_exp_train3.job'\n",
    "run_dir3 = '../test/SPNR/axiline_svm_sampling_exp_train3'\n",
    "rpt_file3 = '../test/RPT/axiline_svm_sampling_exp_train3.rpt'\n",
    "\n",
    "gen_gnu_job_list(job_file3, run_dir3, rpt_file3, num_cycles3, sizes3,\n",
    "                 cp_util_list, designs, num_units, cp_step, run_file)"
   ]
  },
  {
   "cell_type": "code",
   "execution_count": 10,
   "metadata": {},
   "outputs": [],
   "source": [
    "job_file4 = '../test/job_files/axiline_svm_sampling_exp_train4.job'\n",
    "run_dir4 = '../test/SPNR/axiline_svm_sampling_exp_train4'\n",
    "rpt_file4 = '../test/RPT/axiline_svm_sampling_exp_train4.rpt'\n",
    "\n",
    "gen_gnu_job_list(job_file4, run_dir4, rpt_file4, num_cycles4, sizes4,\n",
    "                 cp_util_list, designs, num_units, cp_step, run_file)"
   ]
  },
  {
   "attachments": {},
   "cell_type": "markdown",
   "metadata": {},
   "source": [
    "### Generation of Testing and Validation data"
   ]
  },
  {
   "cell_type": "code",
   "execution_count": 11,
   "metadata": {},
   "outputs": [],
   "source": [
    "test_sizes = [50, 40, 25, 20, 35, 25, 10, 45, 20, 50]\n",
    "test_num_cycles = [4, 5, 8, 10, 11, 15, 20, 20, 5, 10]\n",
    "test_job_file = '../test/job_files/axiline_svm_sampling_exp_test.job'\n",
    "test_run_dir = '../test/SPNR/axiline_svm_sampling_exp_test'\n",
    "test_rpt_file = '../test/RPT/axiline_svm_sampling_exp_test.rpt'\n",
    "\n",
    "gen_gnu_job_list(test_job_file, test_run_dir, test_rpt_file, test_num_cycles,\n",
    "                 test_sizes, cp_util_list, designs, num_units, cp_step,\n",
    "                 run_file)"
   ]
  },
  {
   "cell_type": "code",
   "execution_count": 12,
   "metadata": {},
   "outputs": [],
   "source": [
    "valid_sizes = [40, 36, 45, 25, 11, 20, 28, 49, 15, 32]\n",
    "valid_num_cycles = [15, 20, 10, 18, 17, 7, 13, 5, 12, 8]\n",
    "valid_job_file = '../test/job_files/axiline_svm_sampling_exp_valid.job'\n",
    "valid_run_dir = '../test/SPNR/axiline_svm_sampling_exp_valid'\n",
    "valid_rpt_file = '../test/RPT/axiline_svm_sampling_exp_valid.rpt'\n",
    "\n",
    "gen_gnu_job_list(valid_job_file, valid_run_dir, valid_rpt_file,\n",
    "                 valid_num_cycles, test_sizes, cp_util_list, designs, num_units,\n",
    "                 cp_step, run_file)"
   ]
  }
 ],
 "metadata": {
  "kernelspec": {
   "display_name": "Python 3",
   "language": "python",
   "name": "python3"
  },
  "language_info": {
   "codemirror_mode": {
    "name": "ipython",
    "version": 3
   },
   "file_extension": ".py",
   "mimetype": "text/x-python",
   "name": "python",
   "nbconvert_exporter": "python",
   "pygments_lexer": "ipython3",
   "version": "3.9.7"
  },
  "orig_nbformat": 4
 },
 "nbformat": 4,
 "nbformat_minor": 2
}
